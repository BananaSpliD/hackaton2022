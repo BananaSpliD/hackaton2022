{
  "nbformat": 4,
  "nbformat_minor": 0,
  "metadata": {
    "colab": {
      "name": "Untitled7.ipynb",
      "provenance": [],
      "collapsed_sections": []
    },
    "kernelspec": {
      "name": "python3",
      "display_name": "Python 3"
    },
    "language_info": {
      "name": "python"
    }
  },
  "cells": [
    {
      "cell_type": "markdown",
      "source": [
        "## Caixabank Tech 2022\n",
        "https://nuwe.io/challenge/data-science-cb"
      ],
      "metadata": {
        "id": "JwKZjI9VGpwm"
      }
    },
    {
      "cell_type": "code",
      "execution_count": 381,
      "metadata": {
        "id": "M17j68FapfxF"
      },
      "outputs": [],
      "source": [
        "import pandas as pd\n",
        "import numpy as np"
      ]
    },
    {
      "cell_type": "markdown",
      "source": [
        "#Data preprocessing"
      ],
      "metadata": {
        "id": "u0YmkueOG4C0"
      }
    },
    {
      "cell_type": "code",
      "source": [
        "df=pd.read_csv('train.csv')\n",
        "df.info()"
      ],
      "metadata": {
        "colab": {
          "base_uri": "https://localhost:8080/"
        },
        "id": "o3iXrUATqwvp",
        "outputId": "b5e8e686-6c42-4b5d-c274-332c0b0f3829"
      },
      "execution_count": 382,
      "outputs": [
        {
          "output_type": "stream",
          "name": "stdout",
          "text": [
            "<class 'pandas.core.frame.DataFrame'>\n",
            "RangeIndex: 6554 entries, 0 to 6553\n",
            "Data columns (total 8 columns):\n",
            " #   Column     Non-Null Count  Dtype  \n",
            "---  ------     --------------  -----  \n",
            " 0   Date       6554 non-null   object \n",
            " 1   Open       6421 non-null   float64\n",
            " 2   High       6421 non-null   float64\n",
            " 3   Low        6421 non-null   float64\n",
            " 4   Close      6421 non-null   float64\n",
            " 5   Adj Close  6421 non-null   float64\n",
            " 6   Volume     6421 non-null   float64\n",
            " 7   Target     6554 non-null   int64  \n",
            "dtypes: float64(6), int64(1), object(1)\n",
            "memory usage: 409.8+ KB\n"
          ]
        }
      ]
    },
    {
      "cell_type": "markdown",
      "source": [
        "We set the rows have nan values, the target to nan too.\n",
        "\n"
      ],
      "metadata": {
        "id": "V6AK9BDlG9Qh"
      }
    },
    {
      "cell_type": "code",
      "source": [
        "df['Target'][df['Open'].isna()]=df['Target'][df['Open'].isna()].apply(lambda x: np.nan)"
      ],
      "metadata": {
        "colab": {
          "base_uri": "https://localhost:8080/"
        },
        "id": "M7owXgirq05v",
        "outputId": "051cd2c5-8c02-4264-a087-320a5d7d2e0b"
      },
      "execution_count": 383,
      "outputs": [
        {
          "output_type": "stream",
          "name": "stderr",
          "text": [
            "/usr/local/lib/python3.7/dist-packages/ipykernel_launcher.py:1: SettingWithCopyWarning: \n",
            "A value is trying to be set on a copy of a slice from a DataFrame\n",
            "\n",
            "See the caveats in the documentation: https://pandas.pydata.org/pandas-docs/stable/user_guide/indexing.html#returning-a-view-versus-a-copy\n",
            "  \"\"\"Entry point for launching an IPython kernel.\n"
          ]
        }
      ]
    },
    {
      "cell_type": "markdown",
      "source": [
        "We define a function to parse the date to float"
      ],
      "metadata": {
        "id": "_b7pi87xHEJ5"
      }
    },
    {
      "cell_type": "code",
      "source": [
        "from datetime import datetime\n",
        "\n",
        "def datetime_to_float(d):\n",
        "  datetime_object = datetime.strptime(d, '%Y-%M-%d')\n",
        "  datetime_object.replace(hour=0, minute=0, second=0)\n",
        "  return datetime_object.timestamp()\n",
        "df['ParseDate']=df['Date'].apply(lambda x: datetime_to_float(x))"
      ],
      "metadata": {
        "id": "YBHzvn0qvC48"
      },
      "execution_count": 384,
      "outputs": []
    },
    {
      "cell_type": "code",
      "source": [
        "df.head()"
      ],
      "metadata": {
        "colab": {
          "base_uri": "https://localhost:8080/",
          "height": 206
        },
        "id": "Jo1qKp08Az7q",
        "outputId": "ab149215-2ce6-45af-8ab8-8f6a9f1b2457"
      },
      "execution_count": 385,
      "outputs": [
        {
          "output_type": "execute_result",
          "data": {
            "text/plain": [
              "         Date         Open         High          Low        Close  \\\n",
              "0  1994-01-03  3615.199951  3654.699951  3581.000000  3654.500000   \n",
              "1  1994-01-04  3654.500000  3675.500000  3625.100098  3630.300049   \n",
              "2  1994-01-05  3625.199951  3625.199951  3583.399902  3621.199951   \n",
              "3  1994-01-06          NaN          NaN          NaN          NaN   \n",
              "4  1994-01-07  3621.199951  3644.399902  3598.699951  3636.399902   \n",
              "\n",
              "     Adj Close  Volume  Target    ParseDate  \n",
              "0  3654.496338     0.0     0.0  757555260.0  \n",
              "1  3630.296387     0.0     1.0  757641660.0  \n",
              "2  3621.196289     0.0     1.0  757728060.0  \n",
              "3          NaN     NaN     NaN  757814460.0  \n",
              "4  3636.396240     0.0     1.0  757900860.0  "
            ],
            "text/html": [
              "\n",
              "  <div id=\"df-19f5c327-1a06-443f-b35c-aa442d37f7a8\">\n",
              "    <div class=\"colab-df-container\">\n",
              "      <div>\n",
              "<style scoped>\n",
              "    .dataframe tbody tr th:only-of-type {\n",
              "        vertical-align: middle;\n",
              "    }\n",
              "\n",
              "    .dataframe tbody tr th {\n",
              "        vertical-align: top;\n",
              "    }\n",
              "\n",
              "    .dataframe thead th {\n",
              "        text-align: right;\n",
              "    }\n",
              "</style>\n",
              "<table border=\"1\" class=\"dataframe\">\n",
              "  <thead>\n",
              "    <tr style=\"text-align: right;\">\n",
              "      <th></th>\n",
              "      <th>Date</th>\n",
              "      <th>Open</th>\n",
              "      <th>High</th>\n",
              "      <th>Low</th>\n",
              "      <th>Close</th>\n",
              "      <th>Adj Close</th>\n",
              "      <th>Volume</th>\n",
              "      <th>Target</th>\n",
              "      <th>ParseDate</th>\n",
              "    </tr>\n",
              "  </thead>\n",
              "  <tbody>\n",
              "    <tr>\n",
              "      <th>0</th>\n",
              "      <td>1994-01-03</td>\n",
              "      <td>3615.199951</td>\n",
              "      <td>3654.699951</td>\n",
              "      <td>3581.000000</td>\n",
              "      <td>3654.500000</td>\n",
              "      <td>3654.496338</td>\n",
              "      <td>0.0</td>\n",
              "      <td>0.0</td>\n",
              "      <td>757555260.0</td>\n",
              "    </tr>\n",
              "    <tr>\n",
              "      <th>1</th>\n",
              "      <td>1994-01-04</td>\n",
              "      <td>3654.500000</td>\n",
              "      <td>3675.500000</td>\n",
              "      <td>3625.100098</td>\n",
              "      <td>3630.300049</td>\n",
              "      <td>3630.296387</td>\n",
              "      <td>0.0</td>\n",
              "      <td>1.0</td>\n",
              "      <td>757641660.0</td>\n",
              "    </tr>\n",
              "    <tr>\n",
              "      <th>2</th>\n",
              "      <td>1994-01-05</td>\n",
              "      <td>3625.199951</td>\n",
              "      <td>3625.199951</td>\n",
              "      <td>3583.399902</td>\n",
              "      <td>3621.199951</td>\n",
              "      <td>3621.196289</td>\n",
              "      <td>0.0</td>\n",
              "      <td>1.0</td>\n",
              "      <td>757728060.0</td>\n",
              "    </tr>\n",
              "    <tr>\n",
              "      <th>3</th>\n",
              "      <td>1994-01-06</td>\n",
              "      <td>NaN</td>\n",
              "      <td>NaN</td>\n",
              "      <td>NaN</td>\n",
              "      <td>NaN</td>\n",
              "      <td>NaN</td>\n",
              "      <td>NaN</td>\n",
              "      <td>NaN</td>\n",
              "      <td>757814460.0</td>\n",
              "    </tr>\n",
              "    <tr>\n",
              "      <th>4</th>\n",
              "      <td>1994-01-07</td>\n",
              "      <td>3621.199951</td>\n",
              "      <td>3644.399902</td>\n",
              "      <td>3598.699951</td>\n",
              "      <td>3636.399902</td>\n",
              "      <td>3636.396240</td>\n",
              "      <td>0.0</td>\n",
              "      <td>1.0</td>\n",
              "      <td>757900860.0</td>\n",
              "    </tr>\n",
              "  </tbody>\n",
              "</table>\n",
              "</div>\n",
              "      <button class=\"colab-df-convert\" onclick=\"convertToInteractive('df-19f5c327-1a06-443f-b35c-aa442d37f7a8')\"\n",
              "              title=\"Convert this dataframe to an interactive table.\"\n",
              "              style=\"display:none;\">\n",
              "        \n",
              "  <svg xmlns=\"http://www.w3.org/2000/svg\" height=\"24px\"viewBox=\"0 0 24 24\"\n",
              "       width=\"24px\">\n",
              "    <path d=\"M0 0h24v24H0V0z\" fill=\"none\"/>\n",
              "    <path d=\"M18.56 5.44l.94 2.06.94-2.06 2.06-.94-2.06-.94-.94-2.06-.94 2.06-2.06.94zm-11 1L8.5 8.5l.94-2.06 2.06-.94-2.06-.94L8.5 2.5l-.94 2.06-2.06.94zm10 10l.94 2.06.94-2.06 2.06-.94-2.06-.94-.94-2.06-.94 2.06-2.06.94z\"/><path d=\"M17.41 7.96l-1.37-1.37c-.4-.4-.92-.59-1.43-.59-.52 0-1.04.2-1.43.59L10.3 9.45l-7.72 7.72c-.78.78-.78 2.05 0 2.83L4 21.41c.39.39.9.59 1.41.59.51 0 1.02-.2 1.41-.59l7.78-7.78 2.81-2.81c.8-.78.8-2.07 0-2.86zM5.41 20L4 18.59l7.72-7.72 1.47 1.35L5.41 20z\"/>\n",
              "  </svg>\n",
              "      </button>\n",
              "      \n",
              "  <style>\n",
              "    .colab-df-container {\n",
              "      display:flex;\n",
              "      flex-wrap:wrap;\n",
              "      gap: 12px;\n",
              "    }\n",
              "\n",
              "    .colab-df-convert {\n",
              "      background-color: #E8F0FE;\n",
              "      border: none;\n",
              "      border-radius: 50%;\n",
              "      cursor: pointer;\n",
              "      display: none;\n",
              "      fill: #1967D2;\n",
              "      height: 32px;\n",
              "      padding: 0 0 0 0;\n",
              "      width: 32px;\n",
              "    }\n",
              "\n",
              "    .colab-df-convert:hover {\n",
              "      background-color: #E2EBFA;\n",
              "      box-shadow: 0px 1px 2px rgba(60, 64, 67, 0.3), 0px 1px 3px 1px rgba(60, 64, 67, 0.15);\n",
              "      fill: #174EA6;\n",
              "    }\n",
              "\n",
              "    [theme=dark] .colab-df-convert {\n",
              "      background-color: #3B4455;\n",
              "      fill: #D2E3FC;\n",
              "    }\n",
              "\n",
              "    [theme=dark] .colab-df-convert:hover {\n",
              "      background-color: #434B5C;\n",
              "      box-shadow: 0px 1px 3px 1px rgba(0, 0, 0, 0.15);\n",
              "      filter: drop-shadow(0px 1px 2px rgba(0, 0, 0, 0.3));\n",
              "      fill: #FFFFFF;\n",
              "    }\n",
              "  </style>\n",
              "\n",
              "      <script>\n",
              "        const buttonEl =\n",
              "          document.querySelector('#df-19f5c327-1a06-443f-b35c-aa442d37f7a8 button.colab-df-convert');\n",
              "        buttonEl.style.display =\n",
              "          google.colab.kernel.accessAllowed ? 'block' : 'none';\n",
              "\n",
              "        async function convertToInteractive(key) {\n",
              "          const element = document.querySelector('#df-19f5c327-1a06-443f-b35c-aa442d37f7a8');\n",
              "          const dataTable =\n",
              "            await google.colab.kernel.invokeFunction('convertToInteractive',\n",
              "                                                     [key], {});\n",
              "          if (!dataTable) return;\n",
              "\n",
              "          const docLinkHtml = 'Like what you see? Visit the ' +\n",
              "            '<a target=\"_blank\" href=https://colab.research.google.com/notebooks/data_table.ipynb>data table notebook</a>'\n",
              "            + ' to learn more about interactive tables.';\n",
              "          element.innerHTML = '';\n",
              "          dataTable['output_type'] = 'display_data';\n",
              "          await google.colab.output.renderOutput(dataTable, element);\n",
              "          const docLink = document.createElement('div');\n",
              "          docLink.innerHTML = docLinkHtml;\n",
              "          element.appendChild(docLink);\n",
              "        }\n",
              "      </script>\n",
              "    </div>\n",
              "  </div>\n",
              "  "
            ]
          },
          "metadata": {},
          "execution_count": 385
        }
      ]
    },
    {
      "cell_type": "markdown",
      "source": [
        "Here we impute the remaining values, using kneighbors with a custom function so it uses the parsed dated, as metric to choose neighboor."
      ],
      "metadata": {
        "id": "G4YjiIpoHKHa"
      }
    },
    {
      "cell_type": "code",
      "source": [
        "from sklearn.impute import KNNImputer\n",
        "columns=['ParseDate','Open', 'High', 'Low', 'Volume','Close','Adj Close']\n",
        "def mydist2 (x,y,**kwargs):\n",
        "  return abs(x[0]-y[0])\n",
        "imputer = KNNImputer(n_neighbors=3, weights=\"uniform\",metric=mydist2)\n",
        "df[columns]=imputer.fit_transform(df[columns])\n",
        "df[columns].head(20)\n"
      ],
      "metadata": {
        "colab": {
          "base_uri": "https://localhost:8080/",
          "height": 676
        },
        "id": "rawMY7xlw5t7",
        "outputId": "fff645e3-79c8-4b2f-fbb5-717acb4ce2db"
      },
      "execution_count": 386,
      "outputs": [
        {
          "output_type": "execute_result",
          "data": {
            "text/plain": [
              "      ParseDate         Open         High          Low  Volume        Close  \\\n",
              "0   757555260.0  3615.199951  3654.699951  3581.000000     0.0  3654.500000   \n",
              "1   757641660.0  3654.500000  3675.500000  3625.100098     0.0  3630.300049   \n",
              "2   757728060.0  3625.199951  3625.199951  3583.399902     0.0  3621.199951   \n",
              "3   757814460.0  3483.066650  3524.266601  3472.833333     0.0  3492.533366   \n",
              "4   757900860.0  3621.199951  3644.399902  3598.699951     0.0  3636.399902   \n",
              "5   758160060.0  3655.199951  3678.199951  3655.199951     0.0  3660.600098   \n",
              "6   758246460.0  3679.699951  3712.500000  3679.699951     0.0  3712.399902   \n",
              "7   758332860.0  3712.300049  3712.300049  3675.899902     0.0  3680.100098   \n",
              "8   758419260.0  3680.100098  3698.199951  3670.399902     0.0  3680.800049   \n",
              "9   758505660.0  3680.800049  3737.399902  3662.899902     0.0  3736.399902   \n",
              "10  758764860.0  3736.399902  3783.300049  3723.899902     0.0  3729.100098   \n",
              "11  758851260.0  3729.100098  3758.899902  3693.699951     0.0  3757.000000   \n",
              "12  758937660.0  3784.300049  3812.100098  3784.300049     0.0  3811.300049   \n",
              "13  759024060.0  3811.300049  3819.000000  3783.800049     0.0  3794.399902   \n",
              "14  759110460.0  3794.399902  3796.300049  3777.699951     0.0  3790.500000   \n",
              "15  759369660.0  3773.399902  3773.399902  3754.399902     0.0  3762.600098   \n",
              "16  759456060.0  3788.300049  3823.600098  3788.300049     0.0  3811.500000   \n",
              "17  759542460.0  3811.500000  3875.100098  3811.399902     0.0  3874.600098   \n",
              "18  759628860.0  3874.600098  3933.100098  3872.100098     0.0  3875.899902   \n",
              "19  759715260.0  3875.899902  3920.699951  3863.500000     0.0  3915.699951   \n",
              "\n",
              "      Adj Close  \n",
              "0   3654.496338  \n",
              "1   3630.296387  \n",
              "2   3621.196289  \n",
              "3   3492.529785  \n",
              "4   3636.396240  \n",
              "5   3660.596436  \n",
              "6   3712.396240  \n",
              "7   3680.096436  \n",
              "8   3680.796387  \n",
              "9   3736.395996  \n",
              "10  3729.096436  \n",
              "11  3756.996094  \n",
              "12  3811.296143  \n",
              "13  3794.395996  \n",
              "14  3790.496094  \n",
              "15  3762.596191  \n",
              "16  3811.496094  \n",
              "17  3874.596191  \n",
              "18  3875.895996  \n",
              "19  3915.696045  "
            ],
            "text/html": [
              "\n",
              "  <div id=\"df-28383f75-2d70-4833-8133-d8e470795db9\">\n",
              "    <div class=\"colab-df-container\">\n",
              "      <div>\n",
              "<style scoped>\n",
              "    .dataframe tbody tr th:only-of-type {\n",
              "        vertical-align: middle;\n",
              "    }\n",
              "\n",
              "    .dataframe tbody tr th {\n",
              "        vertical-align: top;\n",
              "    }\n",
              "\n",
              "    .dataframe thead th {\n",
              "        text-align: right;\n",
              "    }\n",
              "</style>\n",
              "<table border=\"1\" class=\"dataframe\">\n",
              "  <thead>\n",
              "    <tr style=\"text-align: right;\">\n",
              "      <th></th>\n",
              "      <th>ParseDate</th>\n",
              "      <th>Open</th>\n",
              "      <th>High</th>\n",
              "      <th>Low</th>\n",
              "      <th>Volume</th>\n",
              "      <th>Close</th>\n",
              "      <th>Adj Close</th>\n",
              "    </tr>\n",
              "  </thead>\n",
              "  <tbody>\n",
              "    <tr>\n",
              "      <th>0</th>\n",
              "      <td>757555260.0</td>\n",
              "      <td>3615.199951</td>\n",
              "      <td>3654.699951</td>\n",
              "      <td>3581.000000</td>\n",
              "      <td>0.0</td>\n",
              "      <td>3654.500000</td>\n",
              "      <td>3654.496338</td>\n",
              "    </tr>\n",
              "    <tr>\n",
              "      <th>1</th>\n",
              "      <td>757641660.0</td>\n",
              "      <td>3654.500000</td>\n",
              "      <td>3675.500000</td>\n",
              "      <td>3625.100098</td>\n",
              "      <td>0.0</td>\n",
              "      <td>3630.300049</td>\n",
              "      <td>3630.296387</td>\n",
              "    </tr>\n",
              "    <tr>\n",
              "      <th>2</th>\n",
              "      <td>757728060.0</td>\n",
              "      <td>3625.199951</td>\n",
              "      <td>3625.199951</td>\n",
              "      <td>3583.399902</td>\n",
              "      <td>0.0</td>\n",
              "      <td>3621.199951</td>\n",
              "      <td>3621.196289</td>\n",
              "    </tr>\n",
              "    <tr>\n",
              "      <th>3</th>\n",
              "      <td>757814460.0</td>\n",
              "      <td>3483.066650</td>\n",
              "      <td>3524.266601</td>\n",
              "      <td>3472.833333</td>\n",
              "      <td>0.0</td>\n",
              "      <td>3492.533366</td>\n",
              "      <td>3492.529785</td>\n",
              "    </tr>\n",
              "    <tr>\n",
              "      <th>4</th>\n",
              "      <td>757900860.0</td>\n",
              "      <td>3621.199951</td>\n",
              "      <td>3644.399902</td>\n",
              "      <td>3598.699951</td>\n",
              "      <td>0.0</td>\n",
              "      <td>3636.399902</td>\n",
              "      <td>3636.396240</td>\n",
              "    </tr>\n",
              "    <tr>\n",
              "      <th>5</th>\n",
              "      <td>758160060.0</td>\n",
              "      <td>3655.199951</td>\n",
              "      <td>3678.199951</td>\n",
              "      <td>3655.199951</td>\n",
              "      <td>0.0</td>\n",
              "      <td>3660.600098</td>\n",
              "      <td>3660.596436</td>\n",
              "    </tr>\n",
              "    <tr>\n",
              "      <th>6</th>\n",
              "      <td>758246460.0</td>\n",
              "      <td>3679.699951</td>\n",
              "      <td>3712.500000</td>\n",
              "      <td>3679.699951</td>\n",
              "      <td>0.0</td>\n",
              "      <td>3712.399902</td>\n",
              "      <td>3712.396240</td>\n",
              "    </tr>\n",
              "    <tr>\n",
              "      <th>7</th>\n",
              "      <td>758332860.0</td>\n",
              "      <td>3712.300049</td>\n",
              "      <td>3712.300049</td>\n",
              "      <td>3675.899902</td>\n",
              "      <td>0.0</td>\n",
              "      <td>3680.100098</td>\n",
              "      <td>3680.096436</td>\n",
              "    </tr>\n",
              "    <tr>\n",
              "      <th>8</th>\n",
              "      <td>758419260.0</td>\n",
              "      <td>3680.100098</td>\n",
              "      <td>3698.199951</td>\n",
              "      <td>3670.399902</td>\n",
              "      <td>0.0</td>\n",
              "      <td>3680.800049</td>\n",
              "      <td>3680.796387</td>\n",
              "    </tr>\n",
              "    <tr>\n",
              "      <th>9</th>\n",
              "      <td>758505660.0</td>\n",
              "      <td>3680.800049</td>\n",
              "      <td>3737.399902</td>\n",
              "      <td>3662.899902</td>\n",
              "      <td>0.0</td>\n",
              "      <td>3736.399902</td>\n",
              "      <td>3736.395996</td>\n",
              "    </tr>\n",
              "    <tr>\n",
              "      <th>10</th>\n",
              "      <td>758764860.0</td>\n",
              "      <td>3736.399902</td>\n",
              "      <td>3783.300049</td>\n",
              "      <td>3723.899902</td>\n",
              "      <td>0.0</td>\n",
              "      <td>3729.100098</td>\n",
              "      <td>3729.096436</td>\n",
              "    </tr>\n",
              "    <tr>\n",
              "      <th>11</th>\n",
              "      <td>758851260.0</td>\n",
              "      <td>3729.100098</td>\n",
              "      <td>3758.899902</td>\n",
              "      <td>3693.699951</td>\n",
              "      <td>0.0</td>\n",
              "      <td>3757.000000</td>\n",
              "      <td>3756.996094</td>\n",
              "    </tr>\n",
              "    <tr>\n",
              "      <th>12</th>\n",
              "      <td>758937660.0</td>\n",
              "      <td>3784.300049</td>\n",
              "      <td>3812.100098</td>\n",
              "      <td>3784.300049</td>\n",
              "      <td>0.0</td>\n",
              "      <td>3811.300049</td>\n",
              "      <td>3811.296143</td>\n",
              "    </tr>\n",
              "    <tr>\n",
              "      <th>13</th>\n",
              "      <td>759024060.0</td>\n",
              "      <td>3811.300049</td>\n",
              "      <td>3819.000000</td>\n",
              "      <td>3783.800049</td>\n",
              "      <td>0.0</td>\n",
              "      <td>3794.399902</td>\n",
              "      <td>3794.395996</td>\n",
              "    </tr>\n",
              "    <tr>\n",
              "      <th>14</th>\n",
              "      <td>759110460.0</td>\n",
              "      <td>3794.399902</td>\n",
              "      <td>3796.300049</td>\n",
              "      <td>3777.699951</td>\n",
              "      <td>0.0</td>\n",
              "      <td>3790.500000</td>\n",
              "      <td>3790.496094</td>\n",
              "    </tr>\n",
              "    <tr>\n",
              "      <th>15</th>\n",
              "      <td>759369660.0</td>\n",
              "      <td>3773.399902</td>\n",
              "      <td>3773.399902</td>\n",
              "      <td>3754.399902</td>\n",
              "      <td>0.0</td>\n",
              "      <td>3762.600098</td>\n",
              "      <td>3762.596191</td>\n",
              "    </tr>\n",
              "    <tr>\n",
              "      <th>16</th>\n",
              "      <td>759456060.0</td>\n",
              "      <td>3788.300049</td>\n",
              "      <td>3823.600098</td>\n",
              "      <td>3788.300049</td>\n",
              "      <td>0.0</td>\n",
              "      <td>3811.500000</td>\n",
              "      <td>3811.496094</td>\n",
              "    </tr>\n",
              "    <tr>\n",
              "      <th>17</th>\n",
              "      <td>759542460.0</td>\n",
              "      <td>3811.500000</td>\n",
              "      <td>3875.100098</td>\n",
              "      <td>3811.399902</td>\n",
              "      <td>0.0</td>\n",
              "      <td>3874.600098</td>\n",
              "      <td>3874.596191</td>\n",
              "    </tr>\n",
              "    <tr>\n",
              "      <th>18</th>\n",
              "      <td>759628860.0</td>\n",
              "      <td>3874.600098</td>\n",
              "      <td>3933.100098</td>\n",
              "      <td>3872.100098</td>\n",
              "      <td>0.0</td>\n",
              "      <td>3875.899902</td>\n",
              "      <td>3875.895996</td>\n",
              "    </tr>\n",
              "    <tr>\n",
              "      <th>19</th>\n",
              "      <td>759715260.0</td>\n",
              "      <td>3875.899902</td>\n",
              "      <td>3920.699951</td>\n",
              "      <td>3863.500000</td>\n",
              "      <td>0.0</td>\n",
              "      <td>3915.699951</td>\n",
              "      <td>3915.696045</td>\n",
              "    </tr>\n",
              "  </tbody>\n",
              "</table>\n",
              "</div>\n",
              "      <button class=\"colab-df-convert\" onclick=\"convertToInteractive('df-28383f75-2d70-4833-8133-d8e470795db9')\"\n",
              "              title=\"Convert this dataframe to an interactive table.\"\n",
              "              style=\"display:none;\">\n",
              "        \n",
              "  <svg xmlns=\"http://www.w3.org/2000/svg\" height=\"24px\"viewBox=\"0 0 24 24\"\n",
              "       width=\"24px\">\n",
              "    <path d=\"M0 0h24v24H0V0z\" fill=\"none\"/>\n",
              "    <path d=\"M18.56 5.44l.94 2.06.94-2.06 2.06-.94-2.06-.94-.94-2.06-.94 2.06-2.06.94zm-11 1L8.5 8.5l.94-2.06 2.06-.94-2.06-.94L8.5 2.5l-.94 2.06-2.06.94zm10 10l.94 2.06.94-2.06 2.06-.94-2.06-.94-.94-2.06-.94 2.06-2.06.94z\"/><path d=\"M17.41 7.96l-1.37-1.37c-.4-.4-.92-.59-1.43-.59-.52 0-1.04.2-1.43.59L10.3 9.45l-7.72 7.72c-.78.78-.78 2.05 0 2.83L4 21.41c.39.39.9.59 1.41.59.51 0 1.02-.2 1.41-.59l7.78-7.78 2.81-2.81c.8-.78.8-2.07 0-2.86zM5.41 20L4 18.59l7.72-7.72 1.47 1.35L5.41 20z\"/>\n",
              "  </svg>\n",
              "      </button>\n",
              "      \n",
              "  <style>\n",
              "    .colab-df-container {\n",
              "      display:flex;\n",
              "      flex-wrap:wrap;\n",
              "      gap: 12px;\n",
              "    }\n",
              "\n",
              "    .colab-df-convert {\n",
              "      background-color: #E8F0FE;\n",
              "      border: none;\n",
              "      border-radius: 50%;\n",
              "      cursor: pointer;\n",
              "      display: none;\n",
              "      fill: #1967D2;\n",
              "      height: 32px;\n",
              "      padding: 0 0 0 0;\n",
              "      width: 32px;\n",
              "    }\n",
              "\n",
              "    .colab-df-convert:hover {\n",
              "      background-color: #E2EBFA;\n",
              "      box-shadow: 0px 1px 2px rgba(60, 64, 67, 0.3), 0px 1px 3px 1px rgba(60, 64, 67, 0.15);\n",
              "      fill: #174EA6;\n",
              "    }\n",
              "\n",
              "    [theme=dark] .colab-df-convert {\n",
              "      background-color: #3B4455;\n",
              "      fill: #D2E3FC;\n",
              "    }\n",
              "\n",
              "    [theme=dark] .colab-df-convert:hover {\n",
              "      background-color: #434B5C;\n",
              "      box-shadow: 0px 1px 3px 1px rgba(0, 0, 0, 0.15);\n",
              "      filter: drop-shadow(0px 1px 2px rgba(0, 0, 0, 0.3));\n",
              "      fill: #FFFFFF;\n",
              "    }\n",
              "  </style>\n",
              "\n",
              "      <script>\n",
              "        const buttonEl =\n",
              "          document.querySelector('#df-28383f75-2d70-4833-8133-d8e470795db9 button.colab-df-convert');\n",
              "        buttonEl.style.display =\n",
              "          google.colab.kernel.accessAllowed ? 'block' : 'none';\n",
              "\n",
              "        async function convertToInteractive(key) {\n",
              "          const element = document.querySelector('#df-28383f75-2d70-4833-8133-d8e470795db9');\n",
              "          const dataTable =\n",
              "            await google.colab.kernel.invokeFunction('convertToInteractive',\n",
              "                                                     [key], {});\n",
              "          if (!dataTable) return;\n",
              "\n",
              "          const docLinkHtml = 'Like what you see? Visit the ' +\n",
              "            '<a target=\"_blank\" href=https://colab.research.google.com/notebooks/data_table.ipynb>data table notebook</a>'\n",
              "            + ' to learn more about interactive tables.';\n",
              "          element.innerHTML = '';\n",
              "          dataTable['output_type'] = 'display_data';\n",
              "          await google.colab.output.renderOutput(dataTable, element);\n",
              "          const docLink = document.createElement('div');\n",
              "          docLink.innerHTML = docLinkHtml;\n",
              "          element.appendChild(docLink);\n",
              "        }\n",
              "      </script>\n",
              "    </div>\n",
              "  </div>\n",
              "  "
            ]
          },
          "metadata": {},
          "execution_count": 386
        }
      ]
    },
    {
      "cell_type": "markdown",
      "source": [
        "Here we check the imputed values, checking the target field, if it's nan, that means that was imputed.\n",
        "\n",
        "If the row was imputed, we check the Row - 3 to check if the Target has a valid value. If it isnt, we just set the row fields ('Close', 'Adj Close') as the Row -3 value, in case of it is under, in case that it has to be above the 'Close' value we will plus 1 to the value."
      ],
      "metadata": {
        "id": "6jEW-GjgIHGA"
      }
    },
    {
      "cell_type": "code",
      "source": [
        "for i in range(0, len(df)):\n",
        "    if(np.isnan(df.iloc[i].Target)):\n",
        "      if(df.iloc[i-3]['Target'] and df.iloc[i-3]['Close']>=df.iloc[i]['Close']):\n",
        "        df.loc[i,'Close']=df.iloc[i-3]['Close']+1\n",
        "        df.loc[i,'Adj Close']=df.iloc[i-3]['Adj Close']+1\n",
        "      elif(df.iloc[i-3]['Target']==0 and df.iloc[i-3]['Close']<df.iloc[i]['Close']):\n",
        "        df.loc[i,'Close']=df.iloc[i-3]['Close']\n",
        "        df.loc[i,'Adj Close']=df.iloc[i-3]['Adj Close']\n",
        "      df.loc[i,'Target']=1 if df.iloc[i+3]['Close']>df.iloc[i]['Close'] else 0\n"
      ],
      "metadata": {
        "id": "7niatL-5C7oi"
      },
      "execution_count": 387,
      "outputs": []
    },
    {
      "cell_type": "markdown",
      "source": [
        "Here we check that we filled all the missing values."
      ],
      "metadata": {
        "id": "gxGhVBg0JzkJ"
      }
    },
    {
      "cell_type": "code",
      "source": [
        "df.info()"
      ],
      "metadata": {
        "colab": {
          "base_uri": "https://localhost:8080/"
        },
        "id": "mT89rFKuNAyE",
        "outputId": "b94f86e6-d695-4471-c8ea-86d6e7215b7d"
      },
      "execution_count": 388,
      "outputs": [
        {
          "output_type": "stream",
          "name": "stdout",
          "text": [
            "<class 'pandas.core.frame.DataFrame'>\n",
            "RangeIndex: 6554 entries, 0 to 6553\n",
            "Data columns (total 9 columns):\n",
            " #   Column     Non-Null Count  Dtype  \n",
            "---  ------     --------------  -----  \n",
            " 0   Date       6554 non-null   object \n",
            " 1   Open       6554 non-null   float64\n",
            " 2   High       6554 non-null   float64\n",
            " 3   Low        6554 non-null   float64\n",
            " 4   Close      6554 non-null   float64\n",
            " 5   Adj Close  6554 non-null   float64\n",
            " 6   Volume     6554 non-null   float64\n",
            " 7   Target     6554 non-null   float64\n",
            " 8   ParseDate  6554 non-null   float64\n",
            "dtypes: float64(8), object(1)\n",
            "memory usage: 461.0+ KB\n"
          ]
        }
      ]
    },
    {
      "cell_type": "markdown",
      "source": [
        "#Creating the model\n",
        "We will be using a RNN, because it has an artificial neural network called LSTM. \n",
        "And it works well on temporary series."
      ],
      "metadata": {
        "id": "0MDB3E8bJ5Ew"
      }
    },
    {
      "cell_type": "code",
      "source": [
        "import numpy\n",
        "import matplotlib.pyplot as plt\n",
        "import pandas\n",
        "import math\n",
        "from keras.models import Sequential\n",
        "from keras.layers import Dense\n",
        "from keras.layers import LSTM\n",
        "from sklearn.preprocessing import StandardScaler\n",
        "from sklearn.metrics import mean_squared_error\n",
        "from keras.layers import Dropout"
      ],
      "metadata": {
        "id": "9OpHK3h_yGgu"
      },
      "execution_count": 397,
      "outputs": []
    },
    {
      "cell_type": "markdown",
      "source": [
        "First we are going to standarize the variables with StandardScaler"
      ],
      "metadata": {
        "id": "IAF-x_o6K26D"
      }
    },
    {
      "cell_type": "code",
      "source": [
        "scaler = StandardScaler()\n",
        "dataset = scaler.fit_transform(df[columns].drop('ParseDate',axis=1))\n",
        "y=df['Target']"
      ],
      "metadata": {
        "id": "QU3sMjar0VGC"
      },
      "execution_count": 390,
      "outputs": []
    },
    {
      "cell_type": "markdown",
      "source": [
        "Here we are going to create the Train array, and it will contain in each day row of the matrix, the 30 previous days to make a prediction."
      ],
      "metadata": {
        "id": "3jNHbgJqLBzc"
      }
    },
    {
      "cell_type": "code",
      "source": [
        "X_train = []\n",
        "y_train = []\n",
        "\n",
        "n_past = 30     # Number of past days we want to use to predict the future\n",
        "\n",
        "for i in range(n_past, len(dataset)):\n",
        "    X_train.append(dataset[i - n_past:i, 0:df.shape[1] - 1])\n",
        "    y_train.append(y[i- 1:i])\n",
        "\n",
        "X_train, y_train = np.array(X_train), np.array(y_train)\n",
        "\n",
        "print('X_train shape == {}.'.format(X_train.shape))\n",
        "print('y_train shape == {}.'.format(y_train.shape))"
      ],
      "metadata": {
        "colab": {
          "base_uri": "https://localhost:8080/"
        },
        "id": "HNPhhn1X0eM-",
        "outputId": "ed6215c5-86eb-4cae-a8be-8246024e4099"
      },
      "execution_count": 391,
      "outputs": [
        {
          "output_type": "stream",
          "name": "stdout",
          "text": [
            "X_train shape == (6524, 30, 6).\n",
            "y_train shape == (6524, 1).\n"
          ]
        }
      ]
    },
    {
      "cell_type": "markdown",
      "source": [
        "As i mentioned above, we add to our model two layers of LSTM, after that it will be going a layer of Dropout to prevent the overfit. The last node uses the sigmoid activation function that will squeeze all the values between 0 and 1."
      ],
      "metadata": {
        "id": "pN1X5RxRLfGd"
      }
    },
    {
      "cell_type": "code",
      "source": [
        "model = Sequential()\n",
        "model.add(LSTM(units=64, return_sequences=True, input_shape=(n_past, df.shape[1]-3)))\n",
        "model.add(LSTM(units=16, return_sequences=False))\n",
        "model.add(Dropout(0.15))\n",
        "model.add(Dense(1,activation='sigmoid'))\n",
        "model.compile(loss='binary_crossentropy', optimizer='adam', metrics=['accuracy'])\n",
        "history = model.fit(X_train, y_train, shuffle=True, epochs=30, validation_split=0.2, verbose=1, batch_size=256)\n"
      ],
      "metadata": {
        "colab": {
          "base_uri": "https://localhost:8080/"
        },
        "id": "5H8sTUY40ipe",
        "outputId": "ab14799b-a0ac-4a20-c0c4-36c913809f82"
      },
      "execution_count": 393,
      "outputs": [
        {
          "output_type": "stream",
          "name": "stdout",
          "text": [
            "Epoch 1/30\n",
            "21/21 [==============================] - 6s 133ms/step - loss: 0.6931 - accuracy: 0.5300 - val_loss: 0.6912 - val_accuracy: 0.5326\n",
            "Epoch 2/30\n",
            "21/21 [==============================] - 2s 92ms/step - loss: 0.6915 - accuracy: 0.5290 - val_loss: 0.6914 - val_accuracy: 0.5157\n",
            "Epoch 3/30\n",
            "21/21 [==============================] - 2s 91ms/step - loss: 0.6907 - accuracy: 0.5348 - val_loss: 0.6915 - val_accuracy: 0.5211\n",
            "Epoch 4/30\n",
            "21/21 [==============================] - 2s 92ms/step - loss: 0.6910 - accuracy: 0.5384 - val_loss: 0.6918 - val_accuracy: 0.5157\n",
            "Epoch 5/30\n",
            "21/21 [==============================] - 2s 90ms/step - loss: 0.6901 - accuracy: 0.5417 - val_loss: 0.6908 - val_accuracy: 0.5165\n",
            "Epoch 6/30\n",
            "21/21 [==============================] - 2s 89ms/step - loss: 0.6902 - accuracy: 0.5484 - val_loss: 0.6915 - val_accuracy: 0.5188\n",
            "Epoch 7/30\n",
            "21/21 [==============================] - 2s 89ms/step - loss: 0.6904 - accuracy: 0.5413 - val_loss: 0.6906 - val_accuracy: 0.5218\n",
            "Epoch 8/30\n",
            "21/21 [==============================] - 2s 90ms/step - loss: 0.6906 - accuracy: 0.5403 - val_loss: 0.6903 - val_accuracy: 0.5280\n",
            "Epoch 9/30\n",
            "21/21 [==============================] - 2s 90ms/step - loss: 0.6906 - accuracy: 0.5365 - val_loss: 0.6945 - val_accuracy: 0.5103\n",
            "Epoch 10/30\n",
            "21/21 [==============================] - 2s 90ms/step - loss: 0.6890 - accuracy: 0.5380 - val_loss: 0.6905 - val_accuracy: 0.5241\n",
            "Epoch 11/30\n",
            "21/21 [==============================] - 2s 90ms/step - loss: 0.6898 - accuracy: 0.5411 - val_loss: 0.6911 - val_accuracy: 0.5364\n",
            "Epoch 12/30\n",
            "21/21 [==============================] - 2s 92ms/step - loss: 0.6893 - accuracy: 0.5480 - val_loss: 0.6911 - val_accuracy: 0.5280\n",
            "Epoch 13/30\n",
            "21/21 [==============================] - 2s 89ms/step - loss: 0.6899 - accuracy: 0.5405 - val_loss: 0.6936 - val_accuracy: 0.5142\n",
            "Epoch 14/30\n",
            "21/21 [==============================] - 2s 92ms/step - loss: 0.6902 - accuracy: 0.5386 - val_loss: 0.6913 - val_accuracy: 0.5326\n",
            "Epoch 15/30\n",
            "21/21 [==============================] - 2s 96ms/step - loss: 0.6889 - accuracy: 0.5436 - val_loss: 0.6931 - val_accuracy: 0.5218\n",
            "Epoch 16/30\n",
            "21/21 [==============================] - 2s 90ms/step - loss: 0.6888 - accuracy: 0.5363 - val_loss: 0.6897 - val_accuracy: 0.5418\n",
            "Epoch 17/30\n",
            "21/21 [==============================] - 2s 90ms/step - loss: 0.6894 - accuracy: 0.5411 - val_loss: 0.6900 - val_accuracy: 0.5410\n",
            "Epoch 18/30\n",
            "21/21 [==============================] - 2s 90ms/step - loss: 0.6894 - accuracy: 0.5472 - val_loss: 0.6899 - val_accuracy: 0.5402\n",
            "Epoch 19/30\n",
            "21/21 [==============================] - 2s 90ms/step - loss: 0.6882 - accuracy: 0.5421 - val_loss: 0.6940 - val_accuracy: 0.5195\n",
            "Epoch 20/30\n",
            "21/21 [==============================] - 2s 90ms/step - loss: 0.6883 - accuracy: 0.5445 - val_loss: 0.6892 - val_accuracy: 0.5494\n",
            "Epoch 21/30\n",
            "21/21 [==============================] - 2s 99ms/step - loss: 0.6895 - accuracy: 0.5392 - val_loss: 0.6934 - val_accuracy: 0.5310\n",
            "Epoch 22/30\n",
            "21/21 [==============================] - 2s 89ms/step - loss: 0.6877 - accuracy: 0.5453 - val_loss: 0.6937 - val_accuracy: 0.5180\n",
            "Epoch 23/30\n",
            "21/21 [==============================] - 2s 90ms/step - loss: 0.6886 - accuracy: 0.5424 - val_loss: 0.6905 - val_accuracy: 0.5395\n",
            "Epoch 24/30\n",
            "21/21 [==============================] - 2s 89ms/step - loss: 0.6882 - accuracy: 0.5453 - val_loss: 0.6952 - val_accuracy: 0.5103\n",
            "Epoch 25/30\n",
            "21/21 [==============================] - 2s 90ms/step - loss: 0.6882 - accuracy: 0.5465 - val_loss: 0.6905 - val_accuracy: 0.5441\n",
            "Epoch 26/30\n",
            "21/21 [==============================] - 2s 94ms/step - loss: 0.6876 - accuracy: 0.5476 - val_loss: 0.6929 - val_accuracy: 0.5379\n",
            "Epoch 27/30\n",
            "21/21 [==============================] - 2s 92ms/step - loss: 0.6880 - accuracy: 0.5434 - val_loss: 0.6942 - val_accuracy: 0.5280\n",
            "Epoch 28/30\n",
            "21/21 [==============================] - 2s 100ms/step - loss: 0.6875 - accuracy: 0.5411 - val_loss: 0.6939 - val_accuracy: 0.5379\n",
            "Epoch 29/30\n",
            "21/21 [==============================] - 2s 90ms/step - loss: 0.6875 - accuracy: 0.5468 - val_loss: 0.6957 - val_accuracy: 0.5234\n",
            "Epoch 30/30\n",
            "21/21 [==============================] - 2s 95ms/step - loss: 0.6883 - accuracy: 0.5432 - val_loss: 0.7025 - val_accuracy: 0.5134\n"
          ]
        }
      ]
    },
    {
      "cell_type": "markdown",
      "source": [
        "We do the same with the test file, but i added the last days to our test matrix"
      ],
      "metadata": {
        "id": "lZbMBOnCMde8"
      }
    },
    {
      "cell_type": "code",
      "source": [
        "datasetTest=pd.read_csv('test_x.csv')\n",
        "datasetTestScaled = scaler.fit_transform(datasetTest.drop(['Date','test_index'],axis=1))\n",
        "\n",
        "X_test = []\n",
        "for i in range(n_past, len(datasetTestScaled)):\n",
        "    X_test.append(datasetTestScaled[i - n_past:i])\n",
        "for i in range(0,n_past):\n",
        "  X_test[i]=X_train[(X_train.shape[0]-(n_past-i))]\n",
        "X_test=np.array(X_test)"
      ],
      "metadata": {
        "id": "Mawcymw62uzc"
      },
      "execution_count": 498,
      "outputs": []
    },
    {
      "cell_type": "markdown",
      "source": [
        "#Making the prediction"
      ],
      "metadata": {
        "id": "Eoe2fSqbQd8q"
      }
    },
    {
      "cell_type": "markdown",
      "source": [
        ""
      ],
      "metadata": {
        "id": "BpWT3F1EBhmZ"
      }
    },
    {
      "cell_type": "code",
      "source": [
        "prediction=model.predict(X_test)\n"
      ],
      "metadata": {
        "id": "QPsiGu-49K_I"
      },
      "execution_count": 499,
      "outputs": []
    },
    {
      "cell_type": "markdown",
      "source": [
        ""
      ],
      "metadata": {
        "id": "WCV7NyrQSMvk"
      }
    },
    {
      "cell_type": "code",
      "source": [
        "df = pd.DataFrame(prediction, \n",
        "             columns=['Target'])\n",
        "df['test_index']=datasetTest['test_index']\n",
        "\n",
        "df1 = df.pop('Target') \n",
        "df['Target']= df1.apply(lambda x: x>0.5)\n"
      ],
      "metadata": {
        "colab": {
          "base_uri": "https://localhost:8080/",
          "height": 424
        },
        "id": "LNF9JeeKAWra",
        "outputId": "607aeb62-ffdd-4684-be36-f28fa823a09a"
      },
      "execution_count": 506,
      "outputs": [
        {
          "output_type": "execute_result",
          "data": {
            "text/plain": [
              "     test_index  Target\n",
              "0          6557    True\n",
              "1          6558    True\n",
              "2          6559    True\n",
              "3          6560    True\n",
              "4          6561    True\n",
              "..          ...     ...\n",
              "691        7248    True\n",
              "692        7249    True\n",
              "693        7250    True\n",
              "694        7251    True\n",
              "695        7252    True\n",
              "\n",
              "[696 rows x 2 columns]"
            ],
            "text/html": [
              "\n",
              "  <div id=\"df-39bb1cbf-1554-4d9a-b1a6-68978d96cfb1\">\n",
              "    <div class=\"colab-df-container\">\n",
              "      <div>\n",
              "<style scoped>\n",
              "    .dataframe tbody tr th:only-of-type {\n",
              "        vertical-align: middle;\n",
              "    }\n",
              "\n",
              "    .dataframe tbody tr th {\n",
              "        vertical-align: top;\n",
              "    }\n",
              "\n",
              "    .dataframe thead th {\n",
              "        text-align: right;\n",
              "    }\n",
              "</style>\n",
              "<table border=\"1\" class=\"dataframe\">\n",
              "  <thead>\n",
              "    <tr style=\"text-align: right;\">\n",
              "      <th></th>\n",
              "      <th>test_index</th>\n",
              "      <th>Target</th>\n",
              "    </tr>\n",
              "  </thead>\n",
              "  <tbody>\n",
              "    <tr>\n",
              "      <th>0</th>\n",
              "      <td>6557</td>\n",
              "      <td>True</td>\n",
              "    </tr>\n",
              "    <tr>\n",
              "      <th>1</th>\n",
              "      <td>6558</td>\n",
              "      <td>True</td>\n",
              "    </tr>\n",
              "    <tr>\n",
              "      <th>2</th>\n",
              "      <td>6559</td>\n",
              "      <td>True</td>\n",
              "    </tr>\n",
              "    <tr>\n",
              "      <th>3</th>\n",
              "      <td>6560</td>\n",
              "      <td>True</td>\n",
              "    </tr>\n",
              "    <tr>\n",
              "      <th>4</th>\n",
              "      <td>6561</td>\n",
              "      <td>True</td>\n",
              "    </tr>\n",
              "    <tr>\n",
              "      <th>...</th>\n",
              "      <td>...</td>\n",
              "      <td>...</td>\n",
              "    </tr>\n",
              "    <tr>\n",
              "      <th>691</th>\n",
              "      <td>7248</td>\n",
              "      <td>True</td>\n",
              "    </tr>\n",
              "    <tr>\n",
              "      <th>692</th>\n",
              "      <td>7249</td>\n",
              "      <td>True</td>\n",
              "    </tr>\n",
              "    <tr>\n",
              "      <th>693</th>\n",
              "      <td>7250</td>\n",
              "      <td>True</td>\n",
              "    </tr>\n",
              "    <tr>\n",
              "      <th>694</th>\n",
              "      <td>7251</td>\n",
              "      <td>True</td>\n",
              "    </tr>\n",
              "    <tr>\n",
              "      <th>695</th>\n",
              "      <td>7252</td>\n",
              "      <td>True</td>\n",
              "    </tr>\n",
              "  </tbody>\n",
              "</table>\n",
              "<p>696 rows × 2 columns</p>\n",
              "</div>\n",
              "      <button class=\"colab-df-convert\" onclick=\"convertToInteractive('df-39bb1cbf-1554-4d9a-b1a6-68978d96cfb1')\"\n",
              "              title=\"Convert this dataframe to an interactive table.\"\n",
              "              style=\"display:none;\">\n",
              "        \n",
              "  <svg xmlns=\"http://www.w3.org/2000/svg\" height=\"24px\"viewBox=\"0 0 24 24\"\n",
              "       width=\"24px\">\n",
              "    <path d=\"M0 0h24v24H0V0z\" fill=\"none\"/>\n",
              "    <path d=\"M18.56 5.44l.94 2.06.94-2.06 2.06-.94-2.06-.94-.94-2.06-.94 2.06-2.06.94zm-11 1L8.5 8.5l.94-2.06 2.06-.94-2.06-.94L8.5 2.5l-.94 2.06-2.06.94zm10 10l.94 2.06.94-2.06 2.06-.94-2.06-.94-.94-2.06-.94 2.06-2.06.94z\"/><path d=\"M17.41 7.96l-1.37-1.37c-.4-.4-.92-.59-1.43-.59-.52 0-1.04.2-1.43.59L10.3 9.45l-7.72 7.72c-.78.78-.78 2.05 0 2.83L4 21.41c.39.39.9.59 1.41.59.51 0 1.02-.2 1.41-.59l7.78-7.78 2.81-2.81c.8-.78.8-2.07 0-2.86zM5.41 20L4 18.59l7.72-7.72 1.47 1.35L5.41 20z\"/>\n",
              "  </svg>\n",
              "      </button>\n",
              "      \n",
              "  <style>\n",
              "    .colab-df-container {\n",
              "      display:flex;\n",
              "      flex-wrap:wrap;\n",
              "      gap: 12px;\n",
              "    }\n",
              "\n",
              "    .colab-df-convert {\n",
              "      background-color: #E8F0FE;\n",
              "      border: none;\n",
              "      border-radius: 50%;\n",
              "      cursor: pointer;\n",
              "      display: none;\n",
              "      fill: #1967D2;\n",
              "      height: 32px;\n",
              "      padding: 0 0 0 0;\n",
              "      width: 32px;\n",
              "    }\n",
              "\n",
              "    .colab-df-convert:hover {\n",
              "      background-color: #E2EBFA;\n",
              "      box-shadow: 0px 1px 2px rgba(60, 64, 67, 0.3), 0px 1px 3px 1px rgba(60, 64, 67, 0.15);\n",
              "      fill: #174EA6;\n",
              "    }\n",
              "\n",
              "    [theme=dark] .colab-df-convert {\n",
              "      background-color: #3B4455;\n",
              "      fill: #D2E3FC;\n",
              "    }\n",
              "\n",
              "    [theme=dark] .colab-df-convert:hover {\n",
              "      background-color: #434B5C;\n",
              "      box-shadow: 0px 1px 3px 1px rgba(0, 0, 0, 0.15);\n",
              "      filter: drop-shadow(0px 1px 2px rgba(0, 0, 0, 0.3));\n",
              "      fill: #FFFFFF;\n",
              "    }\n",
              "  </style>\n",
              "\n",
              "      <script>\n",
              "        const buttonEl =\n",
              "          document.querySelector('#df-39bb1cbf-1554-4d9a-b1a6-68978d96cfb1 button.colab-df-convert');\n",
              "        buttonEl.style.display =\n",
              "          google.colab.kernel.accessAllowed ? 'block' : 'none';\n",
              "\n",
              "        async function convertToInteractive(key) {\n",
              "          const element = document.querySelector('#df-39bb1cbf-1554-4d9a-b1a6-68978d96cfb1');\n",
              "          const dataTable =\n",
              "            await google.colab.kernel.invokeFunction('convertToInteractive',\n",
              "                                                     [key], {});\n",
              "          if (!dataTable) return;\n",
              "\n",
              "          const docLinkHtml = 'Like what you see? Visit the ' +\n",
              "            '<a target=\"_blank\" href=https://colab.research.google.com/notebooks/data_table.ipynb>data table notebook</a>'\n",
              "            + ' to learn more about interactive tables.';\n",
              "          element.innerHTML = '';\n",
              "          dataTable['output_type'] = 'display_data';\n",
              "          await google.colab.output.renderOutput(dataTable, element);\n",
              "          const docLink = document.createElement('div');\n",
              "          docLink.innerHTML = docLinkHtml;\n",
              "          element.appendChild(docLink);\n",
              "        }\n",
              "      </script>\n",
              "    </div>\n",
              "  </div>\n",
              "  "
            ]
          },
          "metadata": {},
          "execution_count": 506
        }
      ]
    },
    {
      "cell_type": "code",
      "source": [
        "from pathlib import Path  \n",
        "filepath = Path('predictions.csv')  \n",
        "filepath.parent.mkdir(parents=True, exist_ok=True)  \n",
        "df.to_csv(filepath) "
      ],
      "metadata": {
        "id": "50j8F3B8SNBG"
      },
      "execution_count": 510,
      "outputs": []
    },
    {
      "cell_type": "code",
      "source": [
        "df.to_json(r'predictions.json')\n"
      ],
      "metadata": {
        "id": "BiAz5R9UTKGu"
      },
      "execution_count": 511,
      "outputs": []
    },
    {
      "cell_type": "markdown",
      "source": [
        ""
      ],
      "metadata": {
        "id": "-r_oAhBGGo43"
      }
    }
  ]
}